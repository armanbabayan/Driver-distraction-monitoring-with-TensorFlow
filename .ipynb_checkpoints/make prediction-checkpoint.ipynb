{
 "cells": [
  {
   "cell_type": "code",
   "execution_count": 2,
   "metadata": {
    "executionInfo": {
     "elapsed": 248,
     "status": "ok",
     "timestamp": 1658385219381,
     "user": {
      "displayName": "Sketchify ML",
      "userId": "13159393117883145169"
     },
     "user_tz": -240
    },
    "id": "NwGY-VNrh9t4"
   },
   "outputs": [],
   "source": [
    "import tensorflow as tf\n",
    "import numpy as np\n",
    "from io import BytesIO\n",
    "from PIL import Image\n",
    "import cv2\n",
    "import os\n",
    "import shutil\n",
    "import time\n",
    "import pandas as pd"
   ]
  },
  {
   "cell_type": "code",
   "execution_count": null,
   "metadata": {},
   "outputs": [],
   "source": []
  },
  {
   "cell_type": "code",
   "execution_count": 2,
   "metadata": {
    "colab": {
     "base_uri": "https://localhost:8080/"
    },
    "executionInfo": {
     "elapsed": 20344,
     "status": "ok",
     "timestamp": 1658374193028,
     "user": {
      "displayName": "Sketchify ML",
      "userId": "13159393117883145169"
     },
     "user_tz": -240
    },
    "id": "QrctQ0l7iHyY",
    "outputId": "d6dcb92a-b33f-4d7e-dc42-b684bd449932"
   },
   "outputs": [
    {
     "name": "stdout",
     "output_type": "stream",
     "text": [
      "Mounted at gdrive\n"
     ]
    }
   ],
   "source": [
    "drive.mount('gdrive')"
   ]
  },
  {
   "cell_type": "code",
   "execution_count": 3,
   "metadata": {
    "colab": {
     "base_uri": "https://localhost:8080/"
    },
    "executionInfo": {
     "elapsed": 5,
     "status": "ok",
     "timestamp": 1658374193028,
     "user": {
      "displayName": "Sketchify ML",
      "userId": "13159393117883145169"
     },
     "user_tz": -240
    },
    "id": "RE4VCelcje9i",
    "outputId": "49d549ba-0d47-4a90-e9cb-a20ce3208045"
   },
   "outputs": [
    {
     "name": "stdout",
     "output_type": "stream",
     "text": [
      "/content/gdrive/My Drive/S3 images\n"
     ]
    }
   ],
   "source": [
    "cd '/content/gdrive/My Drive/S3 images'"
   ]
  },
  {
   "cell_type": "code",
   "execution_count": null,
   "metadata": {
    "id": "z3Ktlpprja-6"
   },
   "outputs": [],
   "source": [
    "# with open(\"good_images_2.png\", \"rb\") as image:\n",
    "#   img = image.read()"
   ]
  },
  {
   "cell_type": "code",
   "execution_count": null,
   "metadata": {
    "id": "wD38ju4UwnxX"
   },
   "outputs": [],
   "source": [
    "# print(img[0])"
   ]
  },
  {
   "cell_type": "code",
   "execution_count": null,
   "metadata": {
    "id": "RFqTn03Twbko"
   },
   "outputs": [],
   "source": [
    "# with open(\"good_images_2.png\", \"rb\") as image:\n",
    "#   img = image.read()"
   ]
  },
  {
   "cell_type": "code",
   "execution_count": null,
   "metadata": {
    "id": "vFM-yMQzxZqc"
   },
   "outputs": [],
   "source": [
    "# def read_file_as_image(data) -> np.ndarray:\n",
    "#   image = np.array(Image.open(BytesIO(data)))\n",
    "#   return image"
   ]
  },
  {
   "cell_type": "code",
   "execution_count": null,
   "metadata": {
    "id": "Hv99mvHRwzm3"
   },
   "outputs": [],
   "source": [
    "# IMAGE = read_file_as_image(img)"
   ]
  },
  {
   "cell_type": "code",
   "execution_count": null,
   "metadata": {
    "id": "vAkSwobPy9do"
   },
   "outputs": [],
   "source": [
    "pwd"
   ]
  },
  {
   "cell_type": "code",
   "execution_count": null,
   "metadata": {
    "id": "5DEK96H1ykgG"
   },
   "outputs": [],
   "source": [
    "# load model\n",
    "MODEL = tf.keras.models.load_model('/content/gdrive/My Drive/S3 images/Models/model_version2_93_all_data.h5')"
   ]
  },
  {
   "cell_type": "code",
   "execution_count": null,
   "metadata": {
    "id": "NlkVSAQrzLKM"
   },
   "outputs": [],
   "source": [
    "# class names\n",
    "class_names = ['Bad_image', 'Good_image']"
   ]
  },
  {
   "cell_type": "code",
   "execution_count": null,
   "metadata": {
    "id": "8xpGu9tazoi6"
   },
   "outputs": [],
   "source": [
    "# converte into batch\n",
    "IAMGE_BATCH  = np.expand_dims(IMAGE, 0)"
   ]
  },
  {
   "cell_type": "code",
   "execution_count": null,
   "metadata": {
    "id": "MbdETfT10_Qj"
   },
   "outputs": [],
   "source": [
    "# function for resize image\n",
    "def resize_image(filepath):\n",
    "  IMG_SIZE = 256\n",
    "  img_array = cv2.imread(filepath)\n",
    "  img_array = cv2.cvtColor(img_array ,cv2.COLOR_BGR2RGB)\n",
    "  new_array = cv2.resize(img_array, (IMG_SIZE, IMG_SIZE))\n",
    "  return new_array.reshape(IMG_SIZE, IMG_SIZE, 3)"
   ]
  },
  {
   "cell_type": "code",
   "execution_count": null,
   "metadata": {
    "id": "f7715-CI1KI1"
   },
   "outputs": [],
   "source": [
    "IMAGE = resize_image(\"bad_image_1.png\")"
   ]
  },
  {
   "cell_type": "code",
   "execution_count": null,
   "metadata": {
    "id": "zKdZ2W9a1HhH"
   },
   "outputs": [],
   "source": [
    "IAMGE_BATCH  = np.expand_dims(IMAGE, 0)"
   ]
  },
  {
   "cell_type": "code",
   "execution_count": null,
   "metadata": {
    "id": "dU_iNtR9z5wv"
   },
   "outputs": [],
   "source": [
    "prediction = MODEL.predict(IAMGE_BATCH)"
   ]
  },
  {
   "cell_type": "code",
   "execution_count": null,
   "metadata": {
    "id": "CSRDnSmE1yEe"
   },
   "outputs": [],
   "source": [
    "class_names[np.argmax(prediction[0])]"
   ]
  },
  {
   "cell_type": "markdown",
   "metadata": {
    "id": "I-hG4LHmOApq"
   },
   "source": [
    "## Make predictins"
   ]
  },
  {
   "cell_type": "code",
   "execution_count": null,
   "metadata": {
    "id": "zQlrtOO8KAOd"
   },
   "outputs": [],
   "source": [
    "image_path = '/content/gdrive/MyDrive/For_filtering/Batch_6'\n",
    "model_path = '/content/gdrive/My Drive/S3 images/Models/model_version4_94_all_data.h5' #model_version3_93_all_data.h5\n",
    "target_path = '/content/gdrive/MyDrive/For_filtering'"
   ]
  },
  {
   "cell_type": "code",
   "execution_count": null,
   "metadata": {
    "id": "NIlouvoKQuP6"
   },
   "outputs": [],
   "source": [
    "# function for resize image\n",
    "def resize_image(filepath):\n",
    "  IMG_SIZE = 256\n",
    "  img_array = cv2.imread(filepath)\n",
    "  img_array = cv2.cvtColor(img_array ,cv2.COLOR_BGR2RGB)\n",
    "  new_array = cv2.resize(img_array, (IMG_SIZE, IMG_SIZE))\n",
    "  return new_array.reshape(IMG_SIZE, IMG_SIZE, 3)"
   ]
  },
  {
   "cell_type": "code",
   "execution_count": null,
   "metadata": {
    "id": "eMc33xClH9dS"
   },
   "outputs": [],
   "source": [
    "def make_prediction(image_path, model_path):\n",
    "  class_names = ['Bad_image', 'Good_image']\n",
    "  MODEL = tf.keras.models.load_model(model_path)\n",
    "  IMAGE = resize_image(image_path)\n",
    "  IAMGE_BATCH  = np.expand_dims(IMAGE, 0)\n",
    "  prediction = MODEL.predict(IAMGE_BATCH)\n",
    "  confidence = round(100 * (np.max(prediction[0])), 2)\n",
    "  return class_names[np.argmax(prediction[0])], confidence\n",
    "\n"
   ]
  },
  {
   "cell_type": "code",
   "execution_count": null,
   "metadata": {
    "id": "N1ZAk0iuQW2r"
   },
   "outputs": [],
   "source": [
    "def timer(function):\n",
    "    \"\"\"\n",
    "     This function shows the execution time of  the function decorated function.\n",
    "\n",
    "    :param function: the function to be decorated\n",
    "    :return: returns  the execution time of the function in seconds\n",
    "\n",
    "\n",
    "    start_time contains the starting time of the function\n",
    "    end_time contains the end  time of the function\n",
    "    run_time is the difference between end_time and start_time which will be the execution time\n",
    "    Then we print the execution time with 4 precision\n",
    "    After that we return the result of the decorated function\n",
    "    \"\"\"\n",
    "    def wrapper_timer(*args, **kwargs):\n",
    "        start_time = time.perf_counter()\n",
    "        result = function(*args, **kwargs)\n",
    "        end_time = time.perf_counter()\n",
    "        run_time = (end_time - start_time) / 60\n",
    "        print(f\"Finished {function.__name__!r} in {run_time: .2f} minutes\")\n",
    "        return result\n",
    "    return wrapper_timer"
   ]
  },
  {
   "cell_type": "code",
   "execution_count": null,
   "metadata": {
    "id": "L5e5fcB-_53A"
   },
   "outputs": [],
   "source": [
    "@timer\n",
    "def predict_and_move(folder_path, target_path, model_path):\n",
    "  \n",
    "  names = os.listdir(folder_path)\n",
    "  print(f'There are {len(names)} images to predict')\n",
    "\n",
    "  good_image_names = []\n",
    "  bad_image_names = []\n",
    "  # less_confidence = []\n",
    "\n",
    "  print('Predicting ...')\n",
    "  for image_name in names:\n",
    "    prediction = make_prediction(image_path  + \"/\" + image_name, model_path)\n",
    "    \n",
    "    if prediction[0] == 'Good_image': # and prediction[1] >= 90:\n",
    "      good_image_names.append(image_name)\n",
    "    elif prediction[0] == 'Bad_image': # and prediction[1] >= 90:\n",
    "      bad_image_names.append(image_name)\n",
    "    # else:\n",
    "    #   less_confidence.append(image_name)\n",
    "\n",
    "  print('Prediction process finished !') \n",
    "  print(f'Predicted \"Good images\": {len(good_image_names)}')\n",
    "  print(f'Predicted \"Bad images\": {len(bad_image_names)}')\n",
    "  # print(f'Predicted \"Less confidence\": {len(less_confidence)}')\n",
    "\n",
    "  print('Copying \"Goog images\"...')\n",
    "  \n",
    "  target_dir = target_path + '/' + 'good'\n",
    "  is_exists =  os.path.exists(target_dir)\n",
    "  if not is_exists:\n",
    "    os.makedirs(target_dir)\n",
    "  for good_iamge in  good_image_names:\n",
    "    file_path = folder_path + \"/\" + good_iamge\n",
    "    if os.path.isfile(file_path):\n",
    "      shutil.copy(file_path,target_dir)\n",
    "\n",
    "  print('Copying \"Bad images\"...')\n",
    "\n",
    "  target_dir = target_path + '/' + 'bad'\n",
    "  is_exists =  os.path.exists(target_dir)\n",
    "  if not is_exists:\n",
    "    os.makedirs(target_dir)\n",
    "\n",
    "  # target_path = '/content/gdrive/MyDrive/For_filtering/bad'\n",
    "  for bad_iamge in  bad_image_names:\n",
    "    file_path = folder_path + \"/\" + bad_iamge\n",
    "    if os.path.isfile(file_path):\n",
    "      shutil.copy(file_path,target_dir) \n",
    "\n",
    "\n",
    "  # print('Copying images with less confidence...')\n",
    "\n",
    "  # target_dir  = target_path + '/' + 'less_confidence'\n",
    "  # is_exists =  os.path.exists(target_dir)\n",
    "  # if not is_exists:\n",
    "  #   os.makedirs(target_dir)\n",
    "\n",
    "  # # less_confidence_path = '/content/gdrive/MyDrive/For_filtering/less_confidence'\n",
    "  # for less_conf in  less_confidence:\n",
    "  #   file_path = folder_path + \"/\" + less_conf\n",
    "  #   if os.path.isfile(file_path):\n",
    "  #     shutil.copy(file_path,target_dir)"
   ]
  },
  {
   "cell_type": "code",
   "execution_count": null,
   "metadata": {
    "colab": {
     "background_save": true,
     "base_uri": "https://localhost:8080/"
    },
    "id": "uLu6SU3YDE0h",
    "outputId": "219b9daa-17ae-4ea6-96c2-75d23a18aad7"
   },
   "outputs": [
    {
     "name": "stdout",
     "output_type": "stream",
     "text": [
      "There are 2650 images to predict\n",
      "Predicting ...\n",
      "Prediction process finished !\n",
      "Predicted \"Good images\": 589\n",
      "Predicted \"Bad images\": 2061\n",
      "Copying \"Goog images\"...\n",
      "Copying \"Bad images\"...\n",
      "Finished 'predict_and_move' in  101.81 minutes\n"
     ]
    }
   ],
   "source": [
    "predict_and_move(folder_path=image_path,target_path=target_path, model_path= model_path)"
   ]
  },
  {
   "cell_type": "code",
   "execution_count": null,
   "metadata": {
    "id": "X_gKBqPEEE9L"
   },
   "outputs": [],
   "source": [
    "prediction = make_prediction('/content/gdrive/MyDrive/For_filtering/Batch_6/2686_2ad8851dca2a214647642269b9fea64c606606.png', model_path)"
   ]
  },
  {
   "cell_type": "code",
   "execution_count": null,
   "metadata": {
    "colab": {
     "base_uri": "https://localhost:8080/"
    },
    "executionInfo": {
     "elapsed": 293,
     "status": "ok",
     "timestamp": 1652772328269,
     "user": {
      "displayName": "Sketchify ML",
      "userId": "13159393117883145169"
     },
     "user_tz": -240
    },
    "id": "6fC7ozhV9ymx",
    "outputId": "2f685d59-b6b1-4f7a-caff-d66ab042d98b"
   },
   "outputs": [
    {
     "data": {
      "text/plain": [
       "('Good_image', 88.62)"
      ]
     },
     "execution_count": 12,
     "metadata": {},
     "output_type": "execute_result"
    }
   ],
   "source": [
    "prediction"
   ]
  },
  {
   "cell_type": "code",
   "execution_count": null,
   "metadata": {
    "id": "c-XCHOfJLiiC"
   },
   "outputs": [],
   "source": [
    "names = os.listdir(image_path)"
   ]
  },
  {
   "cell_type": "code",
   "execution_count": null,
   "metadata": {
    "id": "8j0sxmAjg86_"
   },
   "outputs": [],
   "source": [
    "len(names)"
   ]
  },
  {
   "cell_type": "code",
   "execution_count": null,
   "metadata": {
    "id": "_DKevtRdLXFf"
   },
   "outputs": [],
   "source": [
    "good_image_names = []\n",
    "bad_image_names = []\n",
    "for image_name in names:\n",
    "  prediction = make_prediction(image_path  + \"/\" + image_name, model_path)\n",
    "  if prediction == 'Good_image':\n",
    "    good_image_names.append(image_name)\n",
    "  elif prediction == 'Bad_image':\n",
    "    bad_image_names.append(image_name)"
   ]
  },
  {
   "cell_type": "code",
   "execution_count": null,
   "metadata": {
    "id": "mlZhP__3ece0"
   },
   "outputs": [],
   "source": [
    "# bad - 215 , good - 285"
   ]
  },
  {
   "cell_type": "code",
   "execution_count": null,
   "metadata": {
    "id": "PdgeN1u-QGcN"
   },
   "outputs": [],
   "source": [
    "len(bad_image_names)"
   ]
  },
  {
   "cell_type": "code",
   "execution_count": null,
   "metadata": {
    "id": "dwK--eZvY4Kw"
   },
   "outputs": [],
   "source": [
    "len(good_image_names)"
   ]
  },
  {
   "cell_type": "code",
   "execution_count": null,
   "metadata": {
    "id": "kF9u5MJ2dJnV"
   },
   "outputs": [],
   "source": [
    "# 500 images in 9:56 seconds - first model\n",
    "# 500 images in 5:42 seconds - second model"
   ]
  },
  {
   "cell_type": "code",
   "execution_count": null,
   "metadata": {
    "id": "dUiSpNWH5Gr5"
   },
   "outputs": [],
   "source": [
    "source_path = image_path\n",
    "target_path = '/content/gdrive/MyDrive/For_filtering/bad'\n",
    "for bad_iamge in  bad_image_names:\n",
    "  file_path = source_path + \"/\" + bad_iamge\n",
    "  if os.path.isfile(file_path):\n",
    "    shutil.copy(file_path,target_path)"
   ]
  },
  {
   "cell_type": "code",
   "execution_count": null,
   "metadata": {
    "id": "ze-qBW4atwvv"
   },
   "outputs": [],
   "source": [
    "#  confidence = round(100 * (np.max(predictions[0])), 2)"
   ]
  }
 ],
 "metadata": {
  "colab": {
   "name": "prediction.ipynb",
   "provenance": []
  },
  "kernelspec": {
   "display_name": "Python 3 (ipykernel)",
   "language": "python",
   "name": "python3"
  },
  "language_info": {
   "codemirror_mode": {
    "name": "ipython",
    "version": 3
   },
   "file_extension": ".py",
   "mimetype": "text/x-python",
   "name": "python",
   "nbconvert_exporter": "python",
   "pygments_lexer": "ipython3",
   "version": "3.8.8"
  }
 },
 "nbformat": 4,
 "nbformat_minor": 1
}
